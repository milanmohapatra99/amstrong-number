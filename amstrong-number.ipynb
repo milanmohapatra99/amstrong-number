{
 "cells": [
  {
   "cell_type": "code",
   "execution_count": 2,
   "id": "45fb58ef",
   "metadata": {},
   "outputs": [
    {
     "name": "stdout",
     "output_type": "stream",
     "text": [
      "Enter the number:-234\n",
      "234 is not an amstrong number\n"
     ]
    }
   ],
   "source": [
    "n = int(input(\"Enter the number:-\"))\n",
    "sum=0\n",
    "n1 = n\n",
    "while(n!=0):\n",
    "    dg = n%10\n",
    "    sum = sum + dg * dg * dg\n",
    "    n = n//10\n",
    "if(n1 == sum):\n",
    "    print(n1,\"is an amstrong number\")\n",
    "else:\n",
    "    print(n1,\"is not an amstrong number\")"
   ]
  },
  {
   "cell_type": "code",
   "execution_count": null,
   "id": "330fb716",
   "metadata": {},
   "outputs": [],
   "source": []
  }
 ],
 "metadata": {
  "kernelspec": {
   "display_name": "Python 3 (ipykernel)",
   "language": "python",
   "name": "python3"
  },
  "language_info": {
   "codemirror_mode": {
    "name": "ipython",
    "version": 3
   },
   "file_extension": ".py",
   "mimetype": "text/x-python",
   "name": "python",
   "nbconvert_exporter": "python",
   "pygments_lexer": "ipython3",
   "version": "3.9.7"
  }
 },
 "nbformat": 4,
 "nbformat_minor": 5
}
